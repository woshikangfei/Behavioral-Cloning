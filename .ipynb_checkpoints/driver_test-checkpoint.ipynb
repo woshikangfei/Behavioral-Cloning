{
 "cells": [
  {
   "cell_type": "code",
   "execution_count": 16,
   "metadata": {
    "collapsed": false
   },
   "outputs": [
    {
     "ename": "TypeError",
     "evalue": "the JSON object must be str, not 'bytes'",
     "output_type": "error",
     "traceback": [
      "\u001b[0;31m---------------------------------------------------------------------------\u001b[0m",
      "\u001b[0;31mTypeError\u001b[0m                                 Traceback (most recent call last)",
      "\u001b[0;32m<ipython-input-16-07cd55f863c0>\u001b[0m in \u001b[0;36m<module>\u001b[0;34m()\u001b[0m\n\u001b[1;32m     81\u001b[0m     \u001b[1;31m#\u001b[0m\u001b[1;33m\u001b[0m\u001b[1;33m\u001b[0m\u001b[0m\n\u001b[1;32m     82\u001b[0m     \u001b[1;31m# instead.\u001b[0m\u001b[1;33m\u001b[0m\u001b[1;33m\u001b[0m\u001b[0m\n\u001b[0;32m---> 83\u001b[0;31m     \u001b[0mmodel\u001b[0m \u001b[1;33m=\u001b[0m \u001b[0mmodel_from_json\u001b[0m\u001b[1;33m(\u001b[0m\u001b[0mjson\u001b[0m\u001b[1;33m.\u001b[0m\u001b[0mloads\u001b[0m\u001b[1;33m(\u001b[0m\u001b[0mjfile\u001b[0m\u001b[1;33m.\u001b[0m\u001b[0mread\u001b[0m\u001b[1;33m(\u001b[0m\u001b[1;33m)\u001b[0m\u001b[1;33m)\u001b[0m\u001b[1;33m)\u001b[0m\u001b[1;33m\u001b[0m\u001b[0m\n\u001b[0m\u001b[1;32m     84\u001b[0m \u001b[1;33m\u001b[0m\u001b[0m\n\u001b[1;32m     85\u001b[0m \u001b[1;33m\u001b[0m\u001b[0m\n",
      "\u001b[0;32mC:\\Program Files\\Anaconda3\\envs\\carnd-term1\\lib\\json\\__init__.py\u001b[0m in \u001b[0;36mloads\u001b[0;34m(s, encoding, cls, object_hook, parse_float, parse_int, parse_constant, object_pairs_hook, **kw)\u001b[0m\n\u001b[1;32m    310\u001b[0m     \u001b[1;32mif\u001b[0m \u001b[1;32mnot\u001b[0m \u001b[0misinstance\u001b[0m\u001b[1;33m(\u001b[0m\u001b[0ms\u001b[0m\u001b[1;33m,\u001b[0m \u001b[0mstr\u001b[0m\u001b[1;33m)\u001b[0m\u001b[1;33m:\u001b[0m\u001b[1;33m\u001b[0m\u001b[0m\n\u001b[1;32m    311\u001b[0m         raise TypeError('the JSON object must be str, not {!r}'.format(\n\u001b[0;32m--> 312\u001b[0;31m                             s.__class__.__name__))\n\u001b[0m\u001b[1;32m    313\u001b[0m     \u001b[1;32mif\u001b[0m \u001b[0ms\u001b[0m\u001b[1;33m.\u001b[0m\u001b[0mstartswith\u001b[0m\u001b[1;33m(\u001b[0m\u001b[1;34mu'\\ufeff'\u001b[0m\u001b[1;33m)\u001b[0m\u001b[1;33m:\u001b[0m\u001b[1;33m\u001b[0m\u001b[0m\n\u001b[1;32m    314\u001b[0m         raise JSONDecodeError(\"Unexpected UTF-8 BOM (decode using utf-8-sig)\",\n",
      "\u001b[0;31mTypeError\u001b[0m: the JSON object must be str, not 'bytes'"
     ]
    }
   ],
   "source": [
    "\n",
    "\n",
    "sio = socketio.Server()\n",
    "app = Flask(__name__)\n",
    "model = None\n",
    "prev_image_array = None\n",
    "\n",
    "@sio.on('telemetry')\n",
    "def telemetry(sid, data):\n",
    "    # The current steering angle of the car\n",
    "    steering_angle = data[\"steering_angle\"]\n",
    "    # The current throttle of the car\n",
    "    throttle = data[\"throttle\"]\n",
    "    # The current speed of the car\n",
    "    speed = data[\"speed\"]\n",
    "    # The current image from the center camera of the car\n",
    "    imgString = data[\"image\"]\n",
    "    image = Image.open(BytesIO(base64.b64decode(imgString)))\n",
    "    image_array = np.asarray(image)\n",
    "    #transformed_image_array = cv2.resize((image_array[30:135, :, :]),(200,66))\n",
    "\n",
    "    #add\n",
    "    images = images[40:,:,:]\n",
    "    images = cv2.resize(images,(220,66),interpolation=cv2.INTER_CUBIC)\n",
    "    images =cv2.cvtColor(images,cv2.COLOR_BGR2YUV)\n",
    "    images= images.astype('float32')\n",
    "\n",
    "    #transformed_image_array = image_array[None, :, :, :]\n",
    "    # This model currently assumes that the features of the model are just the images. Feel free to change this.\n",
    "    steering_angle = float(model.predict(images, batch_size=1))\n",
    "    print(steering_angle)\n",
    "    # The driving model currently just outputs a constant throttle. Feel free to edit this.\n",
    "    throttle = 0.5\n",
    "    print(steering_angle, throttle)\n",
    "    send_control(steering_angle, throttle)\n",
    "    \n",
    "\n",
    "@sio.on('connect')\n",
    "def connect(sid, environ):\n",
    "    print(\"connect \", sid)\n",
    "    send_control(0, 0)\n",
    "\n",
    "\n",
    "def send_control(steering_angle, throttle):\n",
    "    sio.emit(\"steer\", data={\n",
    "    'steering_angle': steering_angle.__str__(),\n",
    "    'throttle': throttle.__str__()\n",
    "    }, skip_sid=True)\n",
    "\n",
    "\n",
    "\n",
    "    \n",
    "with open('model.json', 'r') as jfile:    \n",
    "    model = model_from_json(jfile.read())\n",
    "\n",
    "\n",
    "\n",
    "model.compile(\"adam\", \"mse\")\n",
    "# load weights into new model\n",
    "model.load_weights(\"model.h5\")\n",
    "\n",
    "# wrap Flask application with engineio's middleware\n",
    "app = socketio.Middleware(sio, app)\n",
    "\n",
    "# deploy as an eventlet WSGI server\n",
    "eventlet.wsgi.server(eventlet.listen(('', 4567)), app)"
   ]
  },
  {
   "cell_type": "code",
   "execution_count": null,
   "metadata": {
    "collapsed": true
   },
   "outputs": [],
   "source": []
  }
 ],
 "metadata": {
  "anaconda-cloud": {},
  "kernelspec": {
   "display_name": "Python [conda env:carnd-term1]",
   "language": "python",
   "name": "conda-env-carnd-term1-py"
  },
  "language_info": {
   "codemirror_mode": {
    "name": "ipython",
    "version": 3
   },
   "file_extension": ".py",
   "mimetype": "text/x-python",
   "name": "python",
   "nbconvert_exporter": "python",
   "pygments_lexer": "ipython3",
   "version": "3.5.2"
  }
 },
 "nbformat": 4,
 "nbformat_minor": 1
}
