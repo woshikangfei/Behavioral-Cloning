{
 "cells": [
  {
   "cell_type": "code",
   "execution_count": 1,
   "metadata": {
    "collapsed": false
   },
   "outputs": [
    {
     "name": "stderr",
     "output_type": "stream",
     "text": [
      "Using TensorFlow backend.\n"
     ]
    }
   ],
   "source": [
    "from keras.models import Sequential\n",
    "from keras.layers.core import Dense, Activation, Flatten,Dropout\n",
    "from keras.activations import relu, softmax\n",
    "from keras.layers.convolutional import Convolution2D\n",
    "from keras.layers.pooling import MaxPooling2D\n",
    "import numpy as np\n",
    "from keras.models import Sequential\n",
    "from keras.optimizers import Adam\n",
    "from keras.layers import Dense, Input, Activation, Conv2D, Flatten, MaxPooling2D, Activation, Dropout\n",
    "import pickle \n",
    "from PIL import Image\n",
    "import os\n",
    "import cv2\n",
    "import math\n",
    "from numpy import array\n",
    "import matplotlib.pyplot as plt\n",
    "import pandas as pd\n",
    "import random\n",
    "import json\n",
    "%matplotlib inline\n",
    "\n"
   ]
  },
  {
   "cell_type": "code",
   "execution_count": 2,
   "metadata": {
    "collapsed": false
   },
   "outputs": [
    {
     "data": {
      "text/html": [
       "<div>\n",
       "<table border=\"1\" class=\"dataframe\">\n",
       "  <thead>\n",
       "    <tr style=\"text-align: right;\">\n",
       "      <th></th>\n",
       "      <th>center</th>\n",
       "      <th>left</th>\n",
       "      <th>right</th>\n",
       "      <th>centerval</th>\n",
       "      <th>leftval</th>\n",
       "      <th>rightval</th>\n",
       "      <th>speedval</th>\n",
       "    </tr>\n",
       "  </thead>\n",
       "  <tbody>\n",
       "    <tr>\n",
       "      <th>0</th>\n",
       "      <td>D:\\U机器学习\\selfcar\\simulator-windows-64\\IMG\\cent...</td>\n",
       "      <td>D:\\U机器学习\\selfcar\\simulator-windows-64\\IMG\\lef...</td>\n",
       "      <td>D:\\U机器学习\\selfcar\\simulator-windows-64\\IMG\\rig...</td>\n",
       "      <td>0.0</td>\n",
       "      <td>0.0</td>\n",
       "      <td>0.0</td>\n",
       "      <td>0.000078</td>\n",
       "    </tr>\n",
       "    <tr>\n",
       "      <th>1</th>\n",
       "      <td>D:\\U机器学习\\selfcar\\simulator-windows-64\\IMG\\cent...</td>\n",
       "      <td>D:\\U机器学习\\selfcar\\simulator-windows-64\\IMG\\lef...</td>\n",
       "      <td>D:\\U机器学习\\selfcar\\simulator-windows-64\\IMG\\rig...</td>\n",
       "      <td>0.0</td>\n",
       "      <td>0.0</td>\n",
       "      <td>0.0</td>\n",
       "      <td>0.000078</td>\n",
       "    </tr>\n",
       "    <tr>\n",
       "      <th>2</th>\n",
       "      <td>D:\\U机器学习\\selfcar\\simulator-windows-64\\IMG\\cent...</td>\n",
       "      <td>D:\\U机器学习\\selfcar\\simulator-windows-64\\IMG\\lef...</td>\n",
       "      <td>D:\\U机器学习\\selfcar\\simulator-windows-64\\IMG\\rig...</td>\n",
       "      <td>0.0</td>\n",
       "      <td>0.0</td>\n",
       "      <td>0.0</td>\n",
       "      <td>0.000080</td>\n",
       "    </tr>\n",
       "    <tr>\n",
       "      <th>3</th>\n",
       "      <td>D:\\U机器学习\\selfcar\\simulator-windows-64\\IMG\\cent...</td>\n",
       "      <td>D:\\U机器学习\\selfcar\\simulator-windows-64\\IMG\\lef...</td>\n",
       "      <td>D:\\U机器学习\\selfcar\\simulator-windows-64\\IMG\\rig...</td>\n",
       "      <td>0.0</td>\n",
       "      <td>0.0</td>\n",
       "      <td>0.0</td>\n",
       "      <td>0.000080</td>\n",
       "    </tr>\n",
       "    <tr>\n",
       "      <th>4</th>\n",
       "      <td>D:\\U机器学习\\selfcar\\simulator-windows-64\\IMG\\cent...</td>\n",
       "      <td>D:\\U机器学习\\selfcar\\simulator-windows-64\\IMG\\lef...</td>\n",
       "      <td>D:\\U机器学习\\selfcar\\simulator-windows-64\\IMG\\rig...</td>\n",
       "      <td>0.0</td>\n",
       "      <td>0.0</td>\n",
       "      <td>0.0</td>\n",
       "      <td>0.000081</td>\n",
       "    </tr>\n",
       "  </tbody>\n",
       "</table>\n",
       "</div>"
      ],
      "text/plain": [
       "                                              center  \\\n",
       "0  D:\\U机器学习\\selfcar\\simulator-windows-64\\IMG\\cent...   \n",
       "1  D:\\U机器学习\\selfcar\\simulator-windows-64\\IMG\\cent...   \n",
       "2  D:\\U机器学习\\selfcar\\simulator-windows-64\\IMG\\cent...   \n",
       "3  D:\\U机器学习\\selfcar\\simulator-windows-64\\IMG\\cent...   \n",
       "4  D:\\U机器学习\\selfcar\\simulator-windows-64\\IMG\\cent...   \n",
       "\n",
       "                                                left  \\\n",
       "0   D:\\U机器学习\\selfcar\\simulator-windows-64\\IMG\\lef...   \n",
       "1   D:\\U机器学习\\selfcar\\simulator-windows-64\\IMG\\lef...   \n",
       "2   D:\\U机器学习\\selfcar\\simulator-windows-64\\IMG\\lef...   \n",
       "3   D:\\U机器学习\\selfcar\\simulator-windows-64\\IMG\\lef...   \n",
       "4   D:\\U机器学习\\selfcar\\simulator-windows-64\\IMG\\lef...   \n",
       "\n",
       "                                               right  centerval  leftval  \\\n",
       "0   D:\\U机器学习\\selfcar\\simulator-windows-64\\IMG\\rig...        0.0      0.0   \n",
       "1   D:\\U机器学习\\selfcar\\simulator-windows-64\\IMG\\rig...        0.0      0.0   \n",
       "2   D:\\U机器学习\\selfcar\\simulator-windows-64\\IMG\\rig...        0.0      0.0   \n",
       "3   D:\\U机器学习\\selfcar\\simulator-windows-64\\IMG\\rig...        0.0      0.0   \n",
       "4   D:\\U机器学习\\selfcar\\simulator-windows-64\\IMG\\rig...        0.0      0.0   \n",
       "\n",
       "   rightval  speedval  \n",
       "0       0.0  0.000078  \n",
       "1       0.0  0.000078  \n",
       "2       0.0  0.000080  \n",
       "3       0.0  0.000080  \n",
       "4       0.0  0.000081  "
      ]
     },
     "execution_count": 2,
     "metadata": {},
     "output_type": "execute_result"
    }
   ],
   "source": [
    "#########first is load data##############\n",
    "data = pd.read_csv('driving_log.csv', names=['center', 'left', 'right', 'centerval', 'leftval', 'rightval', 'speedval'] )\n",
    "####display data\n",
    "framedata = pd.DataFrame(data)\n",
    "framedata.head()"
   ]
  },
  {
   "cell_type": "code",
   "execution_count": 3,
   "metadata": {
    "collapsed": false
   },
   "outputs": [
    {
     "ename": "AttributeError",
     "evalue": "'numpy.float64' object has no attribute 'strip'",
     "output_type": "error",
     "traceback": [
      "\u001b[0;31m---------------------------------------------------------------------------\u001b[0m",
      "\u001b[0;31mAttributeError\u001b[0m                            Traceback (most recent call last)",
      "\u001b[0;32m<ipython-input-3-710c678968cc>\u001b[0m in \u001b[0;36m<module>\u001b[0;34m()\u001b[0m\n\u001b[1;32m     10\u001b[0m \u001b[1;33m\u001b[0m\u001b[0m\n\u001b[1;32m     11\u001b[0m \u001b[1;31m#for row in data['left'].values:\u001b[0m\u001b[1;33m\u001b[0m\u001b[1;33m\u001b[0m\u001b[0m\n\u001b[0;32m---> 12\u001b[0;31m     \u001b[0mx_train\u001b[0m\u001b[1;33m.\u001b[0m\u001b[0mappend\u001b[0m\u001b[1;33m(\u001b[0m\u001b[0mrow\u001b[0m\u001b[1;33m.\u001b[0m\u001b[0mstrip\u001b[0m\u001b[1;33m(\u001b[0m\u001b[1;33m)\u001b[0m\u001b[1;33m)\u001b[0m\u001b[1;33m\u001b[0m\u001b[0m\n\u001b[0m\u001b[1;32m     13\u001b[0m \u001b[1;31m#for row in data['leftval'].values:\u001b[0m\u001b[1;33m\u001b[0m\u001b[1;33m\u001b[0m\u001b[0m\n\u001b[1;32m     14\u001b[0m     \u001b[0my_train\u001b[0m\u001b[1;33m.\u001b[0m\u001b[0mappend\u001b[0m\u001b[1;33m(\u001b[0m\u001b[0mrow\u001b[0m\u001b[1;33m)\u001b[0m\u001b[1;33m\u001b[0m\u001b[0m\n",
      "\u001b[0;31mAttributeError\u001b[0m: 'numpy.float64' object has no attribute 'strip'"
     ]
    }
   ],
   "source": [
    "###############process data to train data #############\n",
    "x_train =[]\n",
    "y_train =[]\n",
    "\n",
    "for row in data['center'].values:\n",
    "    x_train.append(row.strip())\n",
    "    \n",
    "for row in data['centerval'].values:\n",
    "    y_train.append(row)\n",
    "    \n",
    "#for row in data['left'].values:\n",
    "    #x_train.append(row.strip())\n",
    "#for row in data['leftval'].values:\n",
    "    #y_train.append(row)\n",
    "    \n",
    "#for row in data['right'].values:\n",
    "    #x_train.append(row.strip())\n",
    "#for row in data['rightval'].values:\n",
    "    #y_train.append(row)\n",
    "    #x_train.append(row[1])\n",
    "    #y_train.append(row[4])\n",
    "    #x_train.append(row[2])\n",
    "    #y_train.append(row[5])\n",
    "\n",
    "x_train =np.array(x_train)\n",
    "y_train =np.array(y_train)\n",
    "\n",
    "print(x_train.shape[0])\n",
    "print(str(len(x_train))+\"== \"+str( len(y_train)))"
   ]
  },
  {
   "cell_type": "code",
   "execution_count": null,
   "metadata": {
    "collapsed": false
   },
   "outputs": [],
   "source": [
    "###############look y_train##############\n",
    "plt.hist(y_train,30)\n",
    "plt.show()"
   ]
  },
  {
   "cell_type": "code",
   "execution_count": null,
   "metadata": {
    "collapsed": false
   },
   "outputs": [],
   "source": [
    "#########read img #############\n",
    "img_width = 66\n",
    "img_height = 200\n",
    "x_train_processed =[]\n",
    "\n",
    "for i in range(len(x_train)):\n",
    "    img = Image.open(x_train[i])\n",
    "    img = img.convert('RGB')\n",
    "    img = img.resize((img_height,img_width ))\n",
    "    x_train_processed.append(img)"
   ]
  },
  {
   "cell_type": "code",
   "execution_count": null,
   "metadata": {
    "collapsed": false
   },
   "outputs": [],
   "source": [
    "x_train_processed_image=np.zeros((len(x_train_processed),img_width,img_height,3))\n",
    "index=0\n",
    "for img in x_train_processed:\n",
    "    x_train_processed_image[index] =img\n",
    "    index+=1\n"
   ]
  },
  {
   "cell_type": "code",
   "execution_count": null,
   "metadata": {
    "collapsed": false
   },
   "outputs": [],
   "source": [
    "###################display one imgs #####################\n",
    "import random\n",
    "%matplotlib inline\n",
    "\n",
    "index = random.randint(0,len(x_train_processed))\n",
    "image = x_train_processed[index]\n",
    "plt.figure(figsize=(5,5))\n",
    "plt.imshow(image)\n"
   ]
  },
  {
   "cell_type": "code",
   "execution_count": null,
   "metadata": {
    "collapsed": false
   },
   "outputs": [],
   "source": [
    "#################create cnn network ########################\n",
    "def lenetNetwork():\n",
    "    model = Sequential()\n",
    "    model.add(Convolution2D(32,3,3,input_shape=(32,32,3)))\n",
    "    model.add(MaxPooling2D(pool_size=(2, 2)))\n",
    "    model.add(Dropout(0.5)) \n",
    "    model.add(Activation('relu'))\n",
    "    model.add(Flatten())\n",
    "    model.add(Dense(128))\n",
    "    model.add(Activation('relu'))\n",
    "    model.add(Dense(43))\n",
    "    model.add(Activation('softmax'))\n",
    "    return model\n",
    "\n",
    "def alexnetNetwork():\n",
    "    model = Sequential()\n",
    "    return model\n",
    "\n",
    "def vggNetwork():\n",
    "    model = Sequential()\n",
    "    return model\n",
    "\n",
    "def googlenetNetwork():\n",
    "    model = Sequential()\n",
    "    return model\n",
    "\n",
    "def end_to_end_network():\n",
    "    model = Sequential()\n",
    "    dropout=0.5\n",
    "\n",
    "    #lay1\n",
    "    model.add(Conv2D(24,5,5,input_shape=(img_width ,img_height,3)))\n",
    "    model.add(MaxPooling2D((2,2)))\n",
    "    model.add(Dropout(dropout))\n",
    "    model.add(Activation('relu'))\n",
    "\n",
    "    #lay2\n",
    "    model.add(Conv2D(36,5,5))\n",
    "    model.add(MaxPooling2D((2,2)))\n",
    "    model.add(Dropout(dropout))\n",
    "    model.add(Activation('relu'))\n",
    "\n",
    "    #lay3\n",
    "    model.add(Conv2D(48,5,5))\n",
    "    model.add(MaxPooling2D((2,2),border_mode='same'))\n",
    "    model.add(Dropout(dropout))\n",
    "    model.add(Activation('relu'))\n",
    "\n",
    "    #lay4\n",
    "    model.add(Conv2D(64,3,3))\n",
    "    model.add(Dropout(dropout))\n",
    "    model.add(Activation('relu'))\n",
    "    #lay5\n",
    "    model.add(Conv2D(64,3,3))\n",
    "    model.add(Dropout(dropout))\n",
    "    model.add(Activation('relu'))\n",
    "\n",
    "    #flatten\n",
    "    model.add(Flatten())\n",
    "\n",
    "    #fullconnected1\n",
    "    model.add(Dense(1164,activation='relu'))\n",
    "    model.add(Dropout(dropout))\n",
    "\n",
    "    #fullconnected2\n",
    "    model.add(Dense(100,activation='relu'))\n",
    "\n",
    "    #fullconnected3\n",
    "    model.add(Dense(50,activation='relu'))\n",
    "\n",
    "    #fullconnected4\n",
    "    model.add(Dense(10,activation='relu'))\n",
    "\n",
    "    #fullconnected5\n",
    "    model.add(Dense(1))\n",
    "\n",
    "    return model"
   ]
  },
  {
   "cell_type": "code",
   "execution_count": null,
   "metadata": {
    "collapsed": false
   },
   "outputs": [],
   "source": [
    "########### test###################\n",
    "    \n",
    "batch_szie =512\n",
    "np_epochs = 20\n",
    "model_file ='model.json'\n",
    "verbose=2\n",
    "validation_split=0.1\n",
    "shuffle=True\n",
    "\n",
    "model = end_to_end_network()\n",
    "\n",
    "adam =Adam(lr=0.00001,beta_1=0.8,beta_2=0.9,epsilon=1e-0.8,decay=0)\n",
    "model.compile(optimizer=adam,loss='mean_squared_error',metrics=['accuracy'])\n",
    "\n",
    "history=model.fit(x_train_processed_image,y_train,batch_size=batch_szie,nb_epoch=np_epochs,verbose=verbose,validation_split=validation_split,shuffle=shuffle)\n",
    "\n"
   ]
  },
  {
   "cell_type": "code",
   "execution_count": null,
   "metadata": {
    "collapsed": false
   },
   "outputs": [],
   "source": [
    "import json\n",
    "########save model.h5 and model.json#################\n",
    "with open(model_file,'w') as rf:\n",
    "    json.dump(model.to_json(),rf)\n",
    "\n",
    "\n",
    "weights_file = model_file.replace('json', 'h5')\n",
    "model.save_weights(weights_file)\n",
    "\n",
    "#print model \n",
    "model.summary()"
   ]
  },
  {
   "cell_type": "code",
   "execution_count": null,
   "metadata": {
    "collapsed": true
   },
   "outputs": [],
   "source": []
  }
 ],
 "metadata": {
  "anaconda-cloud": {},
  "kernelspec": {
   "display_name": "Python [conda env:carnd-term1]",
   "language": "python",
   "name": "conda-env-carnd-term1-py"
  },
  "language_info": {
   "codemirror_mode": {
    "name": "ipython",
    "version": 3
   },
   "file_extension": ".py",
   "mimetype": "text/x-python",
   "name": "python",
   "nbconvert_exporter": "python",
   "pygments_lexer": "ipython3",
   "version": "3.5.2"
  }
 },
 "nbformat": 4,
 "nbformat_minor": 1
}
